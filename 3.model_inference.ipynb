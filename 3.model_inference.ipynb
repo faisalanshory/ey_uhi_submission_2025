{
 "cells": [
  {
   "cell_type": "code",
   "execution_count": null,
   "metadata": {},
   "outputs": [],
   "source": [
    "import pandas as pd\n",
    "import joblib  # or import pickle\n",
    "import os"
   ]
  },
  {
   "cell_type": "markdown",
   "metadata": {},
   "source": [
    "### 1. Load data and model"
   ]
  },
  {
   "cell_type": "markdown",
   "metadata": {},
   "source": [
    "This code segment loads the map-matched testing data and the submission template required for predicting the UHI Index.\n",
    "1.  **Load testing data:** Read CSV into `df_testing`.\n",
    "2.  **Load template:** Read submission template CSV."
   ]
  },
  {
   "cell_type": "code",
   "execution_count": null,
   "metadata": {},
   "outputs": [],
   "source": [
    "# Read data from the pkl file\n",
    "df_testing = pd.read_csv(\"./dataset/csv_mapmatched/df_testing_optimal_features.csv\")\n",
    "\n",
    "# Load submission template\n",
    "submission_template = pd.read_csv('./dataset/Submission_template_UHI2025-v2.csv')\n",
    "optimal_features = ['X_Proxy_Water', 'X_Proxy_Rail', 'X_Proxy_Soil', 'LST', 'Dryness', 'Greeness', 'Wetness', 'Hotness', 'S3_SLSTR', 'PAR', 'KD490_M07']"
   ]
  },
  {
   "cell_type": "markdown",
   "metadata": {},
   "source": [
    "This code loads a previously trained `RandomForestRegressor` model from a file."
   ]
  },
  {
   "cell_type": "code",
   "execution_count": null,
   "metadata": {},
   "outputs": [],
   "source": [
    "# Load the trained model\n",
    "model = joblib.load('./Model/09797_Model_RandomForest.pkl')"
   ]
  },
  {
   "cell_type": "markdown",
   "metadata": {},
   "source": [
    "### 2. Model Inference with selected features"
   ]
  },
  {
   "cell_type": "markdown",
   "metadata": {},
   "source": [
    "This code performs inference using the loaded model and generates a submission CSV file.\n"
   ]
  },
  {
   "cell_type": "code",
   "execution_count": null,
   "metadata": {},
   "outputs": [
    {
     "name": "stdout",
     "output_type": "stream",
     "text": [
      "Done inferencing!\n"
     ]
    }
   ],
   "source": [
    "## MODEL INFERENCE\n",
    "\n",
    "# Generate predictions using the fitted model\n",
    "predicted_uhi = model.predict(df_testing[optimal_features])\n",
    "\n",
    "# Add predictions to the submission template in the \"UHI Index\" column.\n",
    "submission_template['UHI Index'] = predicted_uhi\n",
    "\n",
    "# Export the submission file to CSV without row indices.\n",
    "result_path = \"result/Submission_randomforest_FEATURESELECTION.csv\"\n",
    "submission_template.to_csv(result_path, index=False)\n",
    "\n",
    "# Print\n",
    "print(\"Done inferencing!\")"
   ]
  },
  {
   "cell_type": "code",
   "execution_count": null,
   "metadata": {},
   "outputs": [],
   "source": [
    "# Save the model to cloud storage\n",
    "os.system(f\"gcloud storage cp {result_path} gs://gee-ramiqcom-s4g-bucket/ey_uhi/{result_path}\")"
   ]
  }
 ],
 "metadata": {
  "kernelspec": {
   "display_name": "Python 3 (ipykernel)",
   "language": "python",
   "name": "python3"
  },
  "language_info": {
   "codemirror_mode": {
    "name": "ipython",
    "version": 3
   },
   "file_extension": ".py",
   "mimetype": "text/x-python",
   "name": "python",
   "nbconvert_exporter": "python",
   "pygments_lexer": "ipython3",
   "version": "3.11.2"
  }
 },
 "nbformat": 4,
 "nbformat_minor": 4
}
