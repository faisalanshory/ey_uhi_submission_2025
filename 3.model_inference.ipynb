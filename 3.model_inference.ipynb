{
 "cells": [
  {
   "cell_type": "code",
   "execution_count": null,
   "metadata": {},
   "outputs": [],
   "source": [
    "import pandas as pd\n",
    "import joblib  # or import pickle"
   ]
  },
  {
   "cell_type": "markdown",
   "metadata": {},
   "source": [
    "### 1. Load data and model"
   ]
  },
  {
   "cell_type": "code",
   "execution_count": null,
   "metadata": {},
   "outputs": [],
   "source": [
    "# Read data from the pkl file\n",
    "df_testing = pd.read_csv('./dataset/csv_mapmatched/df_testing.csv')\n",
    "\n",
    "# Load submission template\n",
    "submission_template = pd.read_csv('./dataset/Submission_template_UHI2025-v2.csv')\n",
    "optimal_features = ['X_Proxy_Water', 'X_Proxy_Rail', 'X_Proxy_Soil', 'LST', 'Dryness', 'Greeness', 'Wetness', 'Hotness', 'S3_SLSTR', 'PAR', 'KD490_M07']"
   ]
  },
  {
   "cell_type": "code",
   "execution_count": null,
   "metadata": {},
   "outputs": [],
   "source": [
    "# Load the trained model\n",
    "model = joblib.load('path/to/your/model.pkl')\n",
    "# or if using pickle\n",
    "# with open('path/to/your/model.pkl', 'rb') as file:\n",
    "#     model = pickle.load(file)"
   ]
  },
  {
   "cell_type": "code",
   "execution_count": null,
   "metadata": {},
   "outputs": [],
   "source": [
    "## MODEL INFERENCE\n",
    "\n",
    "# Generate predictions using the fitted model\n",
    "predicted_uhi = model.predict(df_testing[optimal_features])\n",
    "\n",
    "# Add predictions to the submission template in the \"UHI Index\" column.\n",
    "submission_template['UHI Index'] = predicted_uhi\n",
    "\n",
    "# Export the submission file to CSV without row indices.\n",
    "submission_template.to_csv('./Submission_XGB_49ft_FEATURESELECTION.csv', index=False)\n",
    "\n",
    "# Print\n",
    "print(\"Done inferencing!\")"
   ]
  }
 ],
 "metadata": {
  "kernelspec": {
   "display_name": "Python 3",
   "language": "python",
   "name": "python3"
  },
  "language_info": {
   "name": "python",
   "version": "3.11.9"
  }
 },
 "nbformat": 4,
 "nbformat_minor": 2
}
